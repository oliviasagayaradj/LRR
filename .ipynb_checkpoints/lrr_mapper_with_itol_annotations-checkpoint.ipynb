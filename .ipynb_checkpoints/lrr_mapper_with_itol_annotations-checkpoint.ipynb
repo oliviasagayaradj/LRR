{
 "cells": [
  {
   "cell_type": "code",
   "execution_count": 1,
   "id": "ee6b226f",
   "metadata": {},
   "outputs": [],
   "source": [
    "from Bio import SeqIO\n",
    "\n",
    "import os\n",
    "from os import path\n",
    "from os.path import isfile, join, dirname, isdir, exists\n",
    "\n",
    "import pandas as pd\n",
    "from tqdm import tqdm\n",
    "\n",
    "import fnmatch\n",
    "import gffpandas.gffpandas as gffpd\n",
    "\n",
    "import matplotlib.pyplot as plt\n",
    "import numpy as np\n",
    "\n",
    "def make_dir(*argv):\n",
    "    mydir = path.join(*argv)    \n",
    "    if not path.exists(mydir):        \n",
    "        if len(argv) > 1:\n",
    "            make_dir(*argv[:-1])            \n",
    "        os.mkdir(mydir)\n",
    "    return mydir\n",
    "\n",
    "\n",
    "def make_path(*argv):\n",
    "    mypath = path.join(*argv)\n",
    "    if not path.exists(dirname(mypath)):\n",
    "        make_dir(*argv[:-1])\n",
    "    return mypath"
   ]
  },
  {
   "cell_type": "code",
   "execution_count": 2,
   "id": "a9775735",
   "metadata": {
    "scrolled": true
   },
   "outputs": [
    {
     "name": "stdout",
     "output_type": "stream",
     "text": [
      "9669_T561-R1|482\n",
      "6939_T696-R1|434\n",
      "9543_T528-R1|482\n"
     ]
    }
   ],
   "source": [
    "with open('orthogroup_LRR/Int7890_211_214_L_3-LRR.fa') as handle:\n",
    "    for record in SeqIO.parse(handle, 'fasta'):\n",
    "        print(record.id)"
   ]
  },
  {
   "cell_type": "code",
   "execution_count": 3,
   "id": "cace77fa",
   "metadata": {},
   "outputs": [],
   "source": [
    "df = pd.read_csv('ecotypes.csv')  \n",
    "clades = list(df['Clade'])[::-1]"
   ]
  },
  {
   "cell_type": "code",
   "execution_count": 4,
   "id": "5e99e98e",
   "metadata": {},
   "outputs": [],
   "source": [
    "LRR_starts_d_l = []\n",
    "for clade in clades:    \n",
    "    LRR_starts_d = {}\n",
    "    with open(make_path('orthogroup_LRR', clade+'-LRR.fa')) as file:\n",
    "        for record in SeqIO.parse(file, 'fasta'):\n",
    "            prot_id = record.id.split('|')[0]\n",
    "            LRR_starts_d[prot_id] = int(record.id.split('|')[1])\n",
    "    LRR_starts_d_l.append(LRR_starts_d)            "
   ]
  },
  {
   "cell_type": "code",
   "execution_count": 5,
   "id": "be157428",
   "metadata": {},
   "outputs": [],
   "source": [
    "clade, LRR_start_d = list(zip(clades, LRR_starts_d_l))[8]"
   ]
  },
  {
   "cell_type": "code",
   "execution_count": 6,
   "id": "955c9d2b",
   "metadata": {},
   "outputs": [
    {
     "data": {
      "text/plain": [
       "dict_items([('9792_T413-R1', 481), ('108_T495-R1', 481), ('9654_T424-R1', 482), ('9600_T426-R1', 482), ('6974_T507-R1', 482), ('9869_T288-R1', 482), ('9543_T300-R1', 482), ('9134_T165-R1', 481), ('9887_T200-R1', 481), ('9542_T189-R1', 481), ('9871_T218-R1', 481), ('9947_T085-R1', 481), ('9100_T233-R1', 481), ('9762_T233-R1', 481), ('7058_T174-R1', 481), ('7273_T259-R1', 481), ('9764_T253-R1', 481), ('7417_T107-R1', 481), ('7322_T173-R1', 481), ('7288_T235-R1', 481), ('7308_T116-R1', 481), ('9554_T222-R1', 481), ('5784_T183-R1', 481), ('6909_T154-R1', 481), ('6906_T224-R1', 481), ('7416_T227-R1', 452), ('9669_T206-R1', 481), ('9557_T183-R1', 481), ('9837_T187-R1', 481), ('9580_T232-R1', 434), ('9545_T193-R1', 481), ('9537_T203-R1', 481), ('9879_T222-R1', 481), ('9583_T336-R1', 482), ('7373_T298-R1', 482), ('9332_T187-R1', 481), ('7415_T393-R1', 482), ('6899_T192-R1', 481), ('1925_T351-R1', 481), ('7213_T369-R1', 481), ('9550_T281-R1', 481), ('9610_T213-R1', 481), ('9536_T118-R1', 481), ('9944_T140-R1', 481), ('9533_T260-R1', 481), ('7186_T133-R1', 481), ('9597_T245-R1', 481), ('7167_T388-R1', 481), ('9549_T298-R1', 482), ('9518_T401-R1', 482), ('9721_T502-R1', 482), ('7396_T379-R1', 482), ('7067_T326-R1', 482), ('7111_T408-R1', 482), ('6981_T393-R1', 482), ('10015_T418-R1', 482), ('7413_T397-R1', 482)])"
      ]
     },
     "execution_count": 6,
     "metadata": {},
     "output_type": "execute_result"
    }
   ],
   "source": [
    "LRR_start_d.items()"
   ]
  },
  {
   "cell_type": "code",
   "execution_count": 7,
   "id": "0d845fdd",
   "metadata": {},
   "outputs": [
    {
     "data": {
      "image/png": "[encoded data removed]",
      "text/plain": [
       "<Figure size 432x288 with 1 Axes>"
      ]
     },
     "metadata": {
      "needs_background": "light"
     },
     "output_type": "display_data"
    }
   ],
   "source": [
    "with open(make_path('itol_annotations', '%s.txt'%clade), 'a') as file:\n",
    "    # orthogroup_intron_dir = make_dir('orthogroup_intron_map', clade)    \n",
    "    \n",
    "    file.truncate()\n",
    "    file.writelines('DATASET_DOMAINS\\nSEPARATOR COMMA\\nDATASET_LABEL,label1\\nCOLOR,#ff0000\\n\\nDATA\\n')\n",
    "    \n",
    "    \n",
    "    exon_start_l = []\n",
    "    exon_end_l = []\n",
    "    \n",
    "    for ii, (prot_id, LRR_start) in enumerate(LRR_start_d.items()):        \n",
    "        if prot_id == '7413_T397-R1':\n",
    "            splitname = prot_id.split('_')\n",
    "            ecotype, prot = splitname[0], splitname[1]\n",
    "\n",
    "            annotation = gffpd.read_gff3(make_path('gff', ecotype+'.gff'))\n",
    "            df = annotation.df\n",
    "\n",
    "            foundGene = False\n",
    "            \n",
    "            lrr_start_1 = []\n",
    "\n",
    "            for ii in range(df.shape[0]):\n",
    "                if df.iloc[ii]['type'] == 'mRNA':\n",
    "                    if not foundGene:\n",
    "                        if df.iloc[ii]['attributes'].split('|')[1].split(';')[0] == prot:\n",
    "                            foundGene = True\n",
    "                            startGene = df.iloc[ii]['start']\n",
    "                    else:\n",
    "                        break\n",
    "                elif df.iloc[ii]['type'] == 'exon':\n",
    "                    if foundGene:\n",
    "                        exon_start_l.append(df.iloc[ii]['start'])\n",
    "                        exon_end_l.append(df.iloc[ii]['end'])\n",
    "\n",
    "            geneStart = min([min(coord) for coord in zip(exon_start_l, exon_end_l)])\n",
    "\n",
    "            exon_start_l = sorted([x - startGene - LRR_start*3 for x in exon_start_l])\n",
    "            exon_end_l = sorted([x - startGene - LRR_start*3 for x in exon_end_l])\n",
    "\n",
    "            geneEnd = max([max(coord) for coord in zip(exon_start_l, exon_end_l)])\n",
    "            cutoff = 0\n",
    "            for start, end in zip(exon_start_l, exon_end_l):\n",
    "                if start < 0 and end < 0:\n",
    "                    cutoff += 1\n",
    "                    \n",
    "                    \n",
    "            exon_start_l = exon_start_l[cutoff:]\n",
    "            exon_end_l = exon_end_l[cutoff:]\n",
    "\n",
    "            if exon_start_l[0] <0:\n",
    "                exon_start_l[0] = 0\n",
    "            else:\n",
    "                exon_start_l.insert(0, 0)\n",
    "                exon_end_l.insert(0, 0)\n",
    "\n",
    "            itol_l = [prot_id, str(geneEnd)]    \n",
    "        for xmin, xmax in zip(exon_start_l, exon_end_l):\n",
    "            if not xmin or not xmax:\n",
    "                itol_l.append('RE|%d|%d|#0000ff|ex'%(xmin,xmax))\n",
    "                plt.hlines(y=0, xmin=xmin, xmax=xmax, color='b')        \n",
    "        for xmin, xmax in zip(exon_end_l[:-1], exon_start_l[1:]):\n",
    "            itol_l.append('EL|%d|%d|#ff0000|in'%(xmin,xmax))\n",
    "            plt.hlines(y=0, xmin=xmin, xmax=xmax, color='r')\n",
    "\n",
    "        # towrite = ','.join(itol_l)+'\\n'\n",
    "        # file.writelines(towrite)"
   ]
  },
  {
   "cell_type": "code",
   "execution_count": 30,
   "id": "e9ab8576",
   "metadata": {},
   "outputs": [
    {
     "data": {
      "text/plain": [
       "[1124]"
      ]
     },
     "execution_count": 30,
     "metadata": {},
     "output_type": "execute_result"
    }
   ],
   "source": [
    "exon_end_l"
   ]
  },
  {
   "cell_type": "code",
   "execution_count": 13,
   "id": "26af49ad",
   "metadata": {},
   "outputs": [],
   "source": [
    "lrr_id_l = []\n",
    "lrr_id_l = list(LRR_starts_d.keys())\n",
    "\n",
    "lrr_start_l = []\n",
    "lrr_start_l = list(LRR_starts_d.values())"
   ]
  }
 ],
 "metadata": {
  "kernelspec": {
   "display_name": "Python 3 (ipykernel)",
   "language": "python",
   "name": "python3"
  },
  "language_info": {
   "codemirror_mode": {
    "name": "ipython",
    "version": 3
   },
   "file_extension": ".py",
   "mimetype": "text/x-python",
   "name": "python",
   "nbconvert_exporter": "python",
   "pygments_lexer": "ipython3",
   "version": "3.9.7"
  }
 },
 "nbformat": 4,
 "nbformat_minor": 5
}
